{
 "cells": [
  {
   "cell_type": "markdown",
   "metadata": {},
   "source": [
    "# AutoFIS code experimenting"
   ]
  },
  {
   "cell_type": "code",
   "execution_count": 12,
   "metadata": {},
   "outputs": [],
   "source": [
    "import time\n",
    "import pandas as pd\n",
    "import numpy as np\n",
    "\n",
    "from sklearn.model_selection import train_test_split, GridSearchCV\n",
    "from sklearn import datasets\n",
    "from sklearn.metrics import accuracy_score\n",
    "\n",
    "from autofis import AutoFISClassifier"
   ]
  },
  {
   "cell_type": "markdown",
   "metadata": {},
   "source": [
    "## Importing benchmark dataset Iris"
   ]
  },
  {
   "cell_type": "code",
   "execution_count": 2,
   "metadata": {},
   "outputs": [],
   "source": [
    "iris = datasets.load_iris()\n",
    "df_iris = pd.DataFrame(iris['data'])\n",
    "df_iris['target'] = iris['target']\n",
    "\n",
    "X = iris['data']\n",
    "y = iris['target']\n",
    "\n",
    "X_train, X_test, y_train, y_test = train_test_split(X, y,  test_size=0.30, random_state=42)"
   ]
  },
  {
   "cell_type": "code",
   "execution_count": 3,
   "metadata": {
    "tags": []
   },
   "outputs": [
    {
     "output_type": "execute_result",
     "data": {
      "text/plain": "AutoFISClassifier()"
     },
     "metadata": {},
     "execution_count": 3
    }
   ],
   "source": [
    "autofis_estimator = AutoFISClassifier()\n",
    "autofis_estimator.fit(X_train,y_train,categorical_attributes = [False, False, False, False],verbose = 0)"
   ]
  },
  {
   "cell_type": "code",
   "execution_count": 4,
   "metadata": {
    "tags": []
   },
   "outputs": [
    {
     "output_type": "stream",
     "name": "stdout",
     "text": "train: \n"
    },
    {
     "output_type": "execute_result",
     "data": {
      "text/plain": "0.9619047619047619"
     },
     "metadata": {},
     "execution_count": 4
    }
   ],
   "source": [
    "y_pred = autofis_estimator.predict(X_train)\n",
    "print('train: ')\n",
    "accuracy_score(y_pred, y_train)"
   ]
  },
  {
   "cell_type": "code",
   "execution_count": 5,
   "metadata": {
    "tags": []
   },
   "outputs": [
    {
     "output_type": "stream",
     "name": "stdout",
     "text": "test: \n"
    },
    {
     "output_type": "execute_result",
     "data": {
      "text/plain": "0.9777777777777777"
     },
     "metadata": {},
     "execution_count": 5
    }
   ],
   "source": [
    "y_test_pred = autofis_estimator.predict(X_test)\n",
    "print('test: ')\n",
    "accuracy_score(y_test_pred, y_test)"
   ]
  },
  {
   "cell_type": "code",
   "execution_count": null,
   "metadata": {
    "tags": []
   },
   "outputs": [],
   "source": [
    "# autofis_estimator.fuzzifier.fuzzy_params"
   ]
  },
  {
   "cell_type": "markdown",
   "metadata": {},
   "source": [
    "## Running autofis with GridSearchCV"
   ]
  },
  {
   "cell_type": "code",
   "execution_count": 36,
   "metadata": {},
   "outputs": [],
   "source": [
    "param_grid = {\n",
    "    'n_fuzzy_sets': [3,5,7],\n",
    "    'triangle_format': ['normal','tukey'],\n",
    "    'enable_negation':[True,False],\n",
    "    'criteria_support':['cardinality','frequency'],\n",
    "    'association_method': [\"MQR\", \"PMQR\", \"CD\", \"PCD\", \"freq_max\"],\n",
    "    'aggregation_method': [\"MQR\", \"PMQR\", \"CD\", \"PCD\", \"freq_max\"],\n",
    "    't_norm':['prod','min']\n",
    "}\n",
    "clf = GridSearchCV(AutoFISClassifier(),param_grid,cv = 2,n_jobs = -1,verbose=1)"
   ]
  },
  {
   "cell_type": "code",
   "execution_count": 37,
   "metadata": {
    "tags": []
   },
   "outputs": [
    {
     "output_type": "stream",
     "name": "stdout",
     "text": "Fitting 2 folds for each of 1200 candidates, totalling 2400 fits\n[Parallel(n_jobs=-1)]: Using backend LokyBackend with 8 concurrent workers.\n[Parallel(n_jobs=-1)]: Done  64 tasks      | elapsed:    0.8s\n[Parallel(n_jobs=-1)]: Done 656 tasks      | elapsed:    9.7s\n[Parallel(n_jobs=-1)]: Done 1656 tasks      | elapsed:   20.8s\n\n--- Ellapsed time: 28.151175260543823 seconds ---\nBest score (0.9528301886792453)\n[Parallel(n_jobs=-1)]: Done 2400 out of 2400 | elapsed:   28.0s finished\n"
    }
   ],
   "source": [
    "start = time.time()\n",
    "clf.fit(X_train, y_train, categorical_attributes = [False,False,False,False])\n",
    "clf_best = clf.best_estimator_\n",
    "print('')\n",
    "print(\"--- Ellapsed time: %s seconds ---\" % (time.time() - start))\n",
    "print('Best score (%s)' % clf.best_score_)"
   ]
  },
  {
   "cell_type": "code",
   "execution_count": 38,
   "metadata": {},
   "outputs": [
    {
     "output_type": "execute_result",
     "data": {
      "text/plain": "{'aggregation_method': 'MQR',\n 'area_threshold': 0.05,\n 'association_method': 'CD',\n 'criteria_support': 'cardinality',\n 'enable_negation': False,\n 'enable_pcd_premises_base': True,\n 'enable_pcd_premises_derived': True,\n 'enable_similarity_premises_bases': True,\n 'enable_similarity_premises_derived': True,\n 'n_fuzzy_sets': 5,\n 'premise_max_size': 2,\n 't_norm': 'prod',\n 'threshold_similarity': 0.95,\n 'triangle_format': 'tukey'}"
     },
     "metadata": {},
     "execution_count": 38
    }
   ],
   "source": [
    "clf_best.get_params()"
   ]
  },
  {
   "cell_type": "code",
   "execution_count": 40,
   "metadata": {
    "tags": []
   },
   "outputs": [
    {
     "output_type": "stream",
     "name": "stdout",
     "text": "test accuracy: \n"
    },
    {
     "output_type": "execute_result",
     "data": {
      "text/plain": "1.0"
     },
     "metadata": {},
     "execution_count": 40
    }
   ],
   "source": [
    "y_test_pred = clf_best.predict(X_test)\n",
    "print('test accuracy: ')\n",
    "accuracy_score(y_test_pred, y_test)"
   ]
  }
 ],
 "metadata": {
  "file_extension": ".py",
  "kernelspec": {
   "display_name": "Python 3.8.2 64-bit",
   "language": "python",
   "name": "python38264biteb575076a1c8401199c94b6c09d061bd"
  },
  "language_info": {
   "codemirror_mode": {
    "name": "ipython",
    "version": 3
   },
   "file_extension": ".py",
   "mimetype": "text/x-python",
   "name": "python",
   "nbconvert_exporter": "python",
   "pygments_lexer": "ipython3",
   "version": "3.8.2-final"
  },
  "mimetype": "text/x-python",
  "name": "python",
  "npconvert_exporter": "python",
  "pygments_lexer": "ipython3",
  "version": 3
 },
 "nbformat": 4,
 "nbformat_minor": 4
}