{
 "cells": [
  {
   "cell_type": "markdown",
   "metadata": {},
   "source": [
    "# AutoFIS code experimenting"
   ]
  },
  {
   "cell_type": "code",
   "execution_count": 1,
   "metadata": {},
   "outputs": [],
   "source": [
    "# data processing\n",
    "import pandas as pd\n",
    "import numpy as np\n",
    "\n",
    "from sklearn.model_selection import train_test_split\n",
    "from sklearn import datasets\n",
    "from sklearn.metrics import accuracy_score\n",
    "\n",
    "from autofis import AutoFISClassifier"
   ]
  },
  {
   "cell_type": "markdown",
   "metadata": {},
   "source": [
    "## Importing benchmark dataset Iris"
   ]
  },
  {
   "cell_type": "code",
   "execution_count": 2,
   "metadata": {},
   "outputs": [],
   "source": [
    "iris = datasets.load_iris()\n",
    "df_iris = pd.DataFrame(iris['data'])\n",
    "df_iris['target'] = iris['target']\n",
    "\n",
    "X = iris['data']\n",
    "y = iris['target']\n",
    "\n",
    "X_train, X_test, y_train, y_test = train_test_split(X, y,  test_size=0.30, random_state=42)"
   ]
  },
  {
   "cell_type": "code",
   "execution_count": 3,
   "metadata": {
    "tags": []
   },
   "outputs": [
    {
     "output_type": "stream",
     "name": "stdout",
     "text": "Done with Fuzzification\n-----------------------\nDone with Formulation\nDepth level 1: 18\nDepth level 2: 31\n---------------------\nDone with Association\nRules per class:\nclass  0 :  [(1,), (10,), (15,), (10, 15)]\nclass  1 :  [(12,), (17,), (12, 17)]\nclass  2 :  [(13,), (18,), (19,), (13, 18), (13, 19)]\n---------------------\nDone with Aggregation\nPremises of Class 0: [(1,), (10,), (15,)]\nweights: [[0.02410548 0.62684905 0.34904547]]\nPremises of Class 1: [(12,), (17,)]\nweights: [[0.40570462 0.5942954 ]]\nPremises of Class 2: [(13,), (18,), (19,)]\nweights: [[0.44368515 0.44333386 0.11298105]]\n-------------------------\nDone with Decision\n-------------------------\n"
    }
   ],
   "source": [
    "autofis_estimator = AutoFISClassifier(categorical_attributes = [False, False, False, False])\n",
    "autofis_estimator.fit(X_train,y_train,verbose = 1)"
   ]
  },
  {
   "cell_type": "code",
   "execution_count": 5,
   "metadata": {
    "tags": []
   },
   "outputs": [
    {
     "output_type": "stream",
     "name": "stdout",
     "text": "train: \n"
    },
    {
     "output_type": "execute_result",
     "data": {
      "text/plain": "0.9619047619047619"
     },
     "metadata": {},
     "execution_count": 5
    }
   ],
   "source": [
    "y_pred = autofis_estimator.predict(X_train)\n",
    "print('train: ')\n",
    "accuracy_score(y_pred, y_train)"
   ]
  },
  {
   "cell_type": "code",
   "execution_count": 7,
   "metadata": {
    "tags": []
   },
   "outputs": [
    {
     "output_type": "stream",
     "name": "stdout",
     "text": "test: \n"
    },
    {
     "output_type": "execute_result",
     "data": {
      "text/plain": "0.9777777777777777"
     },
     "metadata": {},
     "execution_count": 7
    }
   ],
   "source": [
    "y_test_pred = autofis_estimator.predict(X_test)\n",
    "print('test: ')\n",
    "accuracy_score(y_test_pred, y_test)"
   ]
  }
 ],
 "metadata": {
  "file_extension": ".py",
  "kernelspec": {
   "display_name": "Python 3.7.7 64-bit ('puc': venv)",
   "language": "python",
   "name": "python37764bitpucvenv3c8e04841bf343089962c3369eba30a4"
  },
  "language_info": {
   "codemirror_mode": {
    "name": "ipython",
    "version": 3
   },
   "file_extension": ".py",
   "mimetype": "text/x-python",
   "name": "python",
   "nbconvert_exporter": "python",
   "pygments_lexer": "ipython3",
   "version": "3.7.7-final"
  },
  "mimetype": "text/x-python",
  "name": "python",
  "npconvert_exporter": "python",
  "pygments_lexer": "ipython3",
  "version": 3
 },
 "nbformat": 4,
 "nbformat_minor": 4
}