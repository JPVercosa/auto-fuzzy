{
 "cells": [
  {
   "cell_type": "code",
   "execution_count": 1,
   "metadata": {},
   "outputs": [],
   "source": [
    "%load_ext autoreload\n",
    "%autoreload 2"
   ]
  },
  {
   "cell_type": "code",
   "execution_count": 57,
   "metadata": {},
   "outputs": [],
   "source": [
    "import pandas as pd\n",
    "import numpy as np\n",
    "from sklearn.model_selection import train_test_split\n",
    "from sklearn import datasets\n",
    "\n",
    "from main.autoFIS.autoFIS.fuzzification import Fuzzification\n",
    "from main.autoFIS.autoFIS.fuzzification_new import FuzzificationNew"
   ]
  },
  {
   "cell_type": "markdown",
   "metadata": {},
   "source": [
    "Testing with simple database"
   ]
  },
  {
   "cell_type": "code",
   "execution_count": 61,
   "metadata": {},
   "outputs": [],
   "source": [
    "list_categorical = np.array(['cats','cats','cats','cats','cats','cats','cats','dogs','dogs','dogs','dogs','dogs'])\n",
    "list_categorical2 = np.array([0,1,0,1,0,1,1,1,0,1,0,0])\n",
    "list_categorical3 = np.array([0,1,2,1,2,1,2,1,0,1,0,0])\n",
    "list_numerical = np.array([5,6,7,8,9,10,-1,-2,-3,-4,-5,-6])\n",
    "list_numerical2 = np.array([7,5,3,4,3,20,-22,19,-2,0,-1,12])\n",
    "class_target = np.array ([1,1,1,1,1,0,0,0,0,0,1,1])\n",
    "\n",
    "X_sample = pd.DataFrame(data = {'att1':list_categorical,'att2':list_numerical,'att3':list_categorical2,'att4':list_numerical2,'att5':list_categorical3})\n",
    "X_sample2 = X_sample.iloc[5:10]\n"
   ]
  },
  {
   "cell_type": "code",
   "execution_count": 62,
   "metadata": {},
   "outputs": [],
   "source": [
    "categorical_attributes_mask = [True,False,True,False,True]\n",
    "triangle_format = 'normal'\n",
    "n_fuzzy_sets = 3\n",
    "enable_negation = True"
   ]
  },
  {
   "cell_type": "code",
   "execution_count": 72,
   "metadata": {},
   "outputs": [
    {
     "output_type": "execute_result",
     "data": {
      "text/plain": "   min  max                          centers  is_categorical  is_binary  \\\n0  NaN  NaN                              NaN            True       True   \n1  NaN  NaN   [-6.0, -3.25, 2.0, 7.25, 10.0]           False      False   \n2  NaN  NaN                              NaN            True       True   \n3  NaN  NaN  [-22.0, -0.25, 3.5, 8.25, 20.0]           False      False   \n4  NaN  NaN                              NaN            True      False   \n\n     categories num_fuzzy_sets                                fuzzy_sets  \n0  [cats, dogs]              1                                       [0]  \n1           NaN             10           [1, 2, 3, 4, 5, 6, 7, 8, 9, 10]  \n2        [0, 1]              1                                      [11]  \n3           NaN             10  [12, 13, 14, 15, 16, 17, 18, 19, 20, 21]  \n4     [0, 1, 2]              6                  [22, 23, 24, 25, 26, 27]  ",
      "text/html": "<div>\n<style scoped>\n    .dataframe tbody tr th:only-of-type {\n        vertical-align: middle;\n    }\n\n    .dataframe tbody tr th {\n        vertical-align: top;\n    }\n\n    .dataframe thead th {\n        text-align: right;\n    }\n</style>\n<table border=\"1\" class=\"dataframe\">\n  <thead>\n    <tr style=\"text-align: right;\">\n      <th></th>\n      <th>min</th>\n      <th>max</th>\n      <th>centers</th>\n      <th>is_categorical</th>\n      <th>is_binary</th>\n      <th>categories</th>\n      <th>num_fuzzy_sets</th>\n      <th>fuzzy_sets</th>\n    </tr>\n  </thead>\n  <tbody>\n    <tr>\n      <th>0</th>\n      <td>NaN</td>\n      <td>NaN</td>\n      <td>NaN</td>\n      <td>True</td>\n      <td>True</td>\n      <td>[cats, dogs]</td>\n      <td>1</td>\n      <td>[0]</td>\n    </tr>\n    <tr>\n      <th>1</th>\n      <td>NaN</td>\n      <td>NaN</td>\n      <td>[-6.0, -3.25, 2.0, 7.25, 10.0]</td>\n      <td>False</td>\n      <td>False</td>\n      <td>NaN</td>\n      <td>10</td>\n      <td>[1, 2, 3, 4, 5, 6, 7, 8, 9, 10]</td>\n    </tr>\n    <tr>\n      <th>2</th>\n      <td>NaN</td>\n      <td>NaN</td>\n      <td>NaN</td>\n      <td>True</td>\n      <td>True</td>\n      <td>[0, 1]</td>\n      <td>1</td>\n      <td>[11]</td>\n    </tr>\n    <tr>\n      <th>3</th>\n      <td>NaN</td>\n      <td>NaN</td>\n      <td>[-22.0, -0.25, 3.5, 8.25, 20.0]</td>\n      <td>False</td>\n      <td>False</td>\n      <td>NaN</td>\n      <td>10</td>\n      <td>[12, 13, 14, 15, 16, 17, 18, 19, 20, 21]</td>\n    </tr>\n    <tr>\n      <th>4</th>\n      <td>NaN</td>\n      <td>NaN</td>\n      <td>NaN</td>\n      <td>True</td>\n      <td>False</td>\n      <td>[0, 1, 2]</td>\n      <td>6</td>\n      <td>[22, 23, 24, 25, 26, 27]</td>\n    </tr>\n  </tbody>\n</table>\n</div>"
     },
     "metadata": {},
     "execution_count": 72
    }
   ],
   "source": [
    "fuzz = FuzzificationNew(n_fuzzy_sets = 5, enable_negation = True,triangle_format='tukey')\n",
    "fuzz.fit(X_sample,is_categorical = categorical_attributes_mask)\n",
    "uX = fuzz.transform(X_sample)\n",
    "uX2 = fuzz.transform(X_sample2)\n",
    "fuzz.fuzzy_params"
   ]
  },
  {
   "cell_type": "code",
   "execution_count": 73,
   "metadata": {},
   "outputs": [
    {
     "output_type": "stream",
     "name": "stdout",
     "text": "(12,)\n(12, 10)\n(12,)\n(12, 10)\n(12, 6)\n"
    }
   ],
   "source": [
    "for x in uX:\n",
    "    print(x.shape)"
   ]
  },
  {
   "cell_type": "code",
   "execution_count": 74,
   "metadata": {},
   "outputs": [
    {
     "output_type": "stream",
     "name": "stdout",
     "text": "(5,)\n(5, 10)\n(5,)\n(5, 10)\n(5, 6)\n"
    }
   ],
   "source": [
    "for x in uX2:\n",
    "    print(x.shape)"
   ]
  },
  {
   "cell_type": "markdown",
   "metadata": {},
   "source": [
    "Testing with Iris"
   ]
  },
  {
   "cell_type": "code",
   "execution_count": 75,
   "metadata": {},
   "outputs": [],
   "source": [
    "iris = datasets.load_iris()\n",
    "df_iris = pd.DataFrame(iris['data'])\n",
    "df_iris['target'] = iris['target']\n",
    "X = iris['data']\n",
    "y = iris['target']\n",
    "X_train, X_test, y_train, y_test = train_test_split(X, y,  test_size=0.30, random_state=42)"
   ]
  },
  {
   "cell_type": "code",
   "execution_count": 81,
   "metadata": {},
   "outputs": [
    {
     "output_type": "execute_result",
     "data": {
      "text/plain": "   min  max          centers  is_categorical  is_binary categories  \\\n0  NaN  NaN  [4.3, 5.8, 7.7]           False        0.0        NaN   \n1  NaN  NaN  [2.0, 3.0, 4.2]           False        0.0        NaN   \n2  NaN  NaN  [1.1, 4.3, 6.7]           False        0.0        NaN   \n3  NaN  NaN  [0.1, 1.3, 2.5]           False        0.0        NaN   \n\n  num_fuzzy_sets                fuzzy_sets  \n0              6        [0, 1, 2, 3, 4, 5]  \n1              6      [6, 7, 8, 9, 10, 11]  \n2              6  [12, 13, 14, 15, 16, 17]  \n3              6  [18, 19, 20, 21, 22, 23]  ",
      "text/html": "<div>\n<style scoped>\n    .dataframe tbody tr th:only-of-type {\n        vertical-align: middle;\n    }\n\n    .dataframe tbody tr th {\n        vertical-align: top;\n    }\n\n    .dataframe thead th {\n        text-align: right;\n    }\n</style>\n<table border=\"1\" class=\"dataframe\">\n  <thead>\n    <tr style=\"text-align: right;\">\n      <th></th>\n      <th>min</th>\n      <th>max</th>\n      <th>centers</th>\n      <th>is_categorical</th>\n      <th>is_binary</th>\n      <th>categories</th>\n      <th>num_fuzzy_sets</th>\n      <th>fuzzy_sets</th>\n    </tr>\n  </thead>\n  <tbody>\n    <tr>\n      <th>0</th>\n      <td>NaN</td>\n      <td>NaN</td>\n      <td>[4.3, 5.8, 7.7]</td>\n      <td>False</td>\n      <td>0.0</td>\n      <td>NaN</td>\n      <td>6</td>\n      <td>[0, 1, 2, 3, 4, 5]</td>\n    </tr>\n    <tr>\n      <th>1</th>\n      <td>NaN</td>\n      <td>NaN</td>\n      <td>[2.0, 3.0, 4.2]</td>\n      <td>False</td>\n      <td>0.0</td>\n      <td>NaN</td>\n      <td>6</td>\n      <td>[6, 7, 8, 9, 10, 11]</td>\n    </tr>\n    <tr>\n      <th>2</th>\n      <td>NaN</td>\n      <td>NaN</td>\n      <td>[1.1, 4.3, 6.7]</td>\n      <td>False</td>\n      <td>0.0</td>\n      <td>NaN</td>\n      <td>6</td>\n      <td>[12, 13, 14, 15, 16, 17]</td>\n    </tr>\n    <tr>\n      <th>3</th>\n      <td>NaN</td>\n      <td>NaN</td>\n      <td>[0.1, 1.3, 2.5]</td>\n      <td>False</td>\n      <td>0.0</td>\n      <td>NaN</td>\n      <td>6</td>\n      <td>[18, 19, 20, 21, 22, 23]</td>\n    </tr>\n  </tbody>\n</table>\n</div>"
     },
     "metadata": {},
     "execution_count": 81
    }
   ],
   "source": [
    "fuzz_iris = FuzzificationNew(n_fuzzy_sets = 3, enable_negation = True,triangle_format='tukey')\n",
    "fuzz_iris.fit(X_train)\n",
    "uX = fuzz_iris.transform(X_train)\n",
    "uX2 = fuzz_iris.transform(X_test)\n",
    "fuzz_iris.fuzzy_params"
   ]
  }
 ],
 "metadata": {
  "language_info": {
   "codemirror_mode": {
    "name": "ipython",
    "version": 3
   },
   "file_extension": ".py",
   "mimetype": "text/x-python",
   "name": "python",
   "nbconvert_exporter": "python",
   "pygments_lexer": "ipython3",
   "version": "3.7.7-final"
  },
  "orig_nbformat": 2,
  "kernelspec": {
   "name": "python37764bitpucvenv3c8e04841bf343089962c3369eba30a4",
   "display_name": "Python 3.7.7 64-bit ('puc': venv)"
  }
 },
 "nbformat": 4,
 "nbformat_minor": 2
}